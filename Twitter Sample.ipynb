{
 "cells": [
  {
   "cell_type": "code",
   "execution_count": 8,
   "metadata": {},
   "outputs": [
    {
     "name": "stdout",
     "output_type": "stream",
     "text": [
      "1460323737035677698 2021-11-15 19:08:05+00:00 2244994945\n",
      "1293593516040269825 2020-08-12 17:01:42+00:00 2244994945\n",
      "1293595870563381249 2020-08-12 17:11:04+00:00 6253282\n"
     ]
    }
   ],
   "source": [
    "import tweepy\n",
    "\n",
    "\n",
    "bearer_token = \"AAAAAAAAAAAAAAAAAAAAAIArbwEAAAAAJdOV7Ra1CypyAjwWhpPYpdQX760%3DiRtqa7lHMvSsZVu76Vd3nDSJADjrnUlioPrrKUJdZafjLTszbk\"\n",
    "\n",
    "client = tweepy.Client(bearer_token)\n",
    "\n",
    "# Get Tweets\n",
    "\n",
    "# This endpoint/method returns a variety of information about the Tweet(s)\n",
    "# specified by the requested ID or list of IDs\n",
    "\n",
    "tweet_ids = [1460323737035677698, 1293593516040269825, 1293595870563381249]\n",
    "\n",
    "# By default, only the ID and text fields of each Tweet will be returned\n",
    "# Additional fields can be retrieved using the tweet_fields parameter\n",
    "response = client.get_tweets(tweet_ids, tweet_fields=[\"created_at\", \"author_id\"],)\n",
    "\n",
    "for tweet in response.data:\n",
    "    print(tweet.id, tweet.created_at, tweet.author_id)"
   ]
  },
  {
   "cell_type": "code",
   "execution_count": 9,
   "metadata": {},
   "outputs": [
    {
     "name": "stdout",
     "output_type": "stream",
     "text": [
      "TwitterDev https://pbs.twimg.com/profile_images/1445764922474827784/W2zEPN7U_normal.jpg 2013-12-14 04:35:55+00:00\n",
      "TwitterAPI https://pbs.twimg.com/profile_images/1445765299974795279/ExVMkDHG_normal.jpg 2007-05-23 06:01:13+00:00\n"
     ]
    }
   ],
   "source": [
    "import tweepy\n",
    "\n",
    "\n",
    "bearer_token = \"AAAAAAAAAAAAAAAAAAAAAIArbwEAAAAAJdOV7Ra1CypyAjwWhpPYpdQX760%3DiRtqa7lHMvSsZVu76Vd3nDSJADjrnUlioPrrKUJdZafjLTszbk\"\n",
    "\n",
    "client = tweepy.Client(bearer_token)\n",
    "\n",
    "# Get Users\n",
    "\n",
    "# This endpoint/method returns a variety of information about one or more users\n",
    "# specified by the requested IDs or usernames\n",
    "\n",
    "user_ids = [2244994945, 6253282]\n",
    "\n",
    "# By default, only the ID, name, and username fields of each user will be\n",
    "# returned\n",
    "# Additional fields can be retrieved using the user_fields parameter\n",
    "response = client.get_users(ids=user_ids, user_fields=[\"profile_image_url\", \"created_at\"])\n",
    "\n",
    "for user in response.data:\n",
    "    print(user.username, user.profile_image_url, user.created_at)   "
   ]
  },
  {
   "cell_type": "code",
   "execution_count": 5,
   "metadata": {},
   "outputs": [
    {
     "ename": "SyntaxError",
     "evalue": "invalid syntax (2513231830.py, line 1)",
     "output_type": "error",
     "traceback": [
      "\u001b[1;36m  Input \u001b[1;32mIn [5]\u001b[1;36m\u001b[0m\n\u001b[1;33m    curl https://api.twitter.com/2/users/2244994945 -H \"Authorization: Bearer $ACCESS_TOKEN\"\u001b[0m\n\u001b[1;37m         ^\u001b[0m\n\u001b[1;31mSyntaxError\u001b[0m\u001b[1;31m:\u001b[0m invalid syntax\n"
     ]
    }
   ],
   "source": [
    "curl https://api.twitter.com/2/users/2244994945 -H \"Authorization: Bearer $ACCESS_TOKEN\""
   ]
  },
  {
   "cell_type": "code",
   "execution_count": null,
   "metadata": {},
   "outputs": [],
   "source": [
    "curl \"https://api.twitter.com/2/users/2244994945?expansions=pinned_tweet_id&user.fields=created_at&tweet.fields=created_at\" -H \"Authorization: Bearer $ACCESS_TOKEN\""
   ]
  }
 ],
 "metadata": {
  "interpreter": {
   "hash": "eb219dc60ec316f03a16d2a8312cefcbc9f090167d15f66f5fbccb686d7b6683"
  },
  "kernelspec": {
   "display_name": "Python 3.10.2 ('venv': venv)",
   "language": "python",
   "name": "python3"
  },
  "language_info": {
   "codemirror_mode": {
    "name": "ipython",
    "version": 3
   },
   "file_extension": ".py",
   "mimetype": "text/x-python",
   "name": "python",
   "nbconvert_exporter": "python",
   "pygments_lexer": "ipython3",
   "version": "3.10.2"
  },
  "orig_nbformat": 4
 },
 "nbformat": 4,
 "nbformat_minor": 2
}
