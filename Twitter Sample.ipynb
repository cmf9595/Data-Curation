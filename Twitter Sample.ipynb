{
 "cells": [
  {
   "cell_type": "markdown",
   "metadata": {},
   "source": [
    "https://github.com/tweepy/tweepy/tree/master/examples/API_v2"
   ]
  },
  {
   "cell_type": "code",
   "execution_count": 6,
   "metadata": {},
   "outputs": [
    {
     "name": "stdout",
     "output_type": "stream",
     "text": [
      "1241025578527903750 2020-03-20 15:35:29+00:00 63487085 For the average American the best way to tell if you have covid-19 is to cough in a rich person’s face and wait for their test results\n",
      "1293593516040269825 2020-08-12 17:01:42+00:00 2244994945 It’s finally here! 🥁 Say hello to the new #TwitterAPI.\n",
      "\n",
      "We’re rebuilding the Twitter API v2 from the ground up to better serve our developer community. And today’s launch is only the beginning.\n",
      "\n",
      "https://t.co/32VrwpGaJw https://t.co/KaFSbjWUA8\n",
      "1293595870563381249 2020-08-12 17:11:04+00:00 6253282 Twitter API v2: Early Access released\n",
      "\n",
      "Today we announced Early Access to the first endpoints of the new Twitter API!\n",
      "\n",
      "#TwitterAPI #EarlyAccess #VersionBump https://t.co/g7v3aeIbtQ\n"
     ]
    }
   ],
   "source": [
    "import tweepy\n",
    "\n",
    "\n",
    "bearer_token = \"AAAAAAAAAAAAAAAAAAAAAIArbwEAAAAAJdOV7Ra1CypyAjwWhpPYpdQX760%3DiRtqa7lHMvSsZVu76Vd3nDSJADjrnUlioPrrKUJdZafjLTszbk\"\n",
    "\n",
    "client = tweepy.Client(bearer_token)\n",
    "\n",
    "# Get Tweets\n",
    "\n",
    "# This endpoint/method returns a variety of information about the Tweet(s)\n",
    "# specified by the requested ID or list of IDs\n",
    "\n",
    "tweet_ids = [1241025578527903750, 1293593516040269825, 1293595870563381249]\n",
    "\n",
    "# By default, only the ID and text fields of each Tweet will be returned\n",
    "# Additional fields can be retrieved using the tweet_fields parameter\n",
    "response = client.get_tweets(tweet_ids, tweet_fields=[\"created_at\", \"author_id\"],)\n",
    "\n",
    "for tweet in response.data:\n",
    "    print(tweet.id, tweet.created_at, tweet.author_id, tweet)"
   ]
  },
  {
   "cell_type": "code",
   "execution_count": 8,
   "metadata": {},
   "outputs": [
    {
     "name": "stdout",
     "output_type": "stream",
     "text": [
      "hrmoroz https://pbs.twimg.com/profile_images/1478131738689822728/tKqzLyej_normal.jpg 2009-08-06 17:17:01+00:00 False\n",
      "TwitterDev https://pbs.twimg.com/profile_images/1445764922474827784/W2zEPN7U_normal.jpg 2013-12-14 04:35:55+00:00 True\n",
      "TwitterAPI https://pbs.twimg.com/profile_images/1445765299974795279/ExVMkDHG_normal.jpg 2007-05-23 06:01:13+00:00 True\n"
     ]
    }
   ],
   "source": [
    "user_ids = [63487085, 2244994945, 6253282]\n",
    "\n",
    "# By default, only the ID, name, and username fields of each user will be\n",
    "# returned\n",
    "# Additional fields can be retrieved using the user_fields parameter\n",
    "response = client.get_users(ids=user_ids, user_fields=[\"profile_image_url\", \"created_at\", \"verified\"])\n",
    "\n",
    "for user in response.data:\n",
    "    print(user.username, user.profile_image_url, user.created_at, user.verified)   "
   ]
  },
  {
   "cell_type": "code",
   "execution_count": null,
   "metadata": {},
   "outputs": [],
   "source": []
  }
 ],
 "metadata": {
  "interpreter": {
   "hash": "eb219dc60ec316f03a16d2a8312cefcbc9f090167d15f66f5fbccb686d7b6683"
  },
  "kernelspec": {
   "display_name": "Python 3.10.2 ('venv': venv)",
   "language": "python",
   "name": "python3"
  },
  "language_info": {
   "codemirror_mode": {
    "name": "ipython",
    "version": 3
   },
   "file_extension": ".py",
   "mimetype": "text/x-python",
   "name": "python",
   "nbconvert_exporter": "python",
   "pygments_lexer": "ipython3",
   "version": "3.10.2"
  },
  "orig_nbformat": 4
 },
 "nbformat": 4,
 "nbformat_minor": 2
}
